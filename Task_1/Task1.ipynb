{
 "cells": [
  {
   "cell_type": "code",
   "execution_count": 1,
   "metadata": {},
   "outputs": [],
   "source": [
    "import numpy as np\n",
    "import matplotlib.pyplot as plt\n",
    "import pandas as pd\n",
    "import torch\n",
    "import torch.nn as nn\n",
    "cuda = torch.device('cuda')     # Default CUDA device\n",
    "%config InlineBackend.figure_format = 'retina'\n",
    "%matplotlib inline"
   ]
  },
  {
   "cell_type": "code",
   "execution_count": 2,
   "metadata": {},
   "outputs": [],
   "source": [
    "np.random.seed(45)\n",
    "num_samples = 40\n",
    "    \n",
    "# Generate data\n",
    "x1 = np.random.uniform(-1, 1, num_samples)\n",
    "f_x = 3*x1 + 4\n",
    "eps = np.random.randn(num_samples)\n",
    "y = f_x + eps"
   ]
  },
  {
   "cell_type": "code",
   "execution_count": 6,
   "metadata": {},
   "outputs": [
    {
     "name": "stdout",
     "output_type": "stream",
     "text": [
      "Loss: 16.681486129760742\n",
      "theta0 grad: -7.447053909301758\n",
      "theta1 grad: -1.0253019332885742\n"
     ]
    }
   ],
   "source": [
    "x1_torch = torch.tensor(x1, dtype=torch.float32, device=cuda)\n",
    "y_torch = torch.tensor(y, dtype=torch.float32, device=cuda)\n",
    "theta0 = torch.tensor(0.0, requires_grad=True, device=cuda)\n",
    "theta1 = torch.tensor(0.0, requires_grad=True, device=cuda)\n",
    "loss = torch.mean(((theta0+theta1*x1_torch) - y_torch)**2) #mse(model(x1_torch), y_torch)\n",
    "loss.backward()\n",
    "print(f\"Loss: {loss.item()}\")\n",
    "print(f\"theta0 grad: {theta0.grad.item()}\")\n",
    "print(f\"theta1 grad: {theta1.grad.item()}\")"
   ]
  },
  {
   "cell_type": "code",
   "execution_count": null,
   "metadata": {},
   "outputs": [],
   "source": []
  }
 ],
 "metadata": {
  "kernelspec": {
   "display_name": "Python 3",
   "language": "python",
   "name": "python3"
  },
  "language_info": {
   "codemirror_mode": {
    "name": "ipython",
    "version": 3
   },
   "file_extension": ".py",
   "mimetype": "text/x-python",
   "name": "python",
   "nbconvert_exporter": "python",
   "pygments_lexer": "ipython3",
   "version": "3.12.4"
  }
 },
 "nbformat": 4,
 "nbformat_minor": 2
}
